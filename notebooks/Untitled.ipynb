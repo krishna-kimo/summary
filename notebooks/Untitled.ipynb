{
 "cells": [
  {
   "cell_type": "markdown",
   "metadata": {},
   "source": [
    "### Transformers Summarization - 1.0"
   ]
  },
  {
   "cell_type": "code",
   "execution_count": 2,
   "metadata": {},
   "outputs": [
    {
     "data": {
      "text/plain": [
       "('../models/bart-tokenizer/vocab.json',\n",
       " '../models/bart-tokenizer/merges.txt',\n",
       " '../models/bart-tokenizer/special_tokens_map.json',\n",
       " '../models/bart-tokenizer/added_tokens.json')"
      ]
     },
     "execution_count": 2,
     "metadata": {},
     "output_type": "execute_result"
    }
   ],
   "source": [
    "#from transformers import BartTokenizer, BartForConditionalGeneration, BartConfig\n",
    "from transformers import BartForConditionalGeneration, BartConfig, BartTokenizer\n",
    "# see ``examples/summarization/bart/evaluate_cnn.py`` for a longer example\n",
    "model = BartForConditionalGeneration.from_pretrained('bart-large-cnn')\n",
    "model.save_pretrained('../models/bart-model')\n",
    "tokenizer = BartTokenizer.from_pretrained('bart-large-cnn')\n",
    "tokenizer.save_pretrained('../models/bart-tokenizer')\n"
   ]
  },
  {
   "cell_type": "code",
   "execution_count": 2,
   "metadata": {},
   "outputs": [
    {
     "name": "stdout",
     "output_type": "stream",
     "text": [
      "['My friends']\n"
     ]
    }
   ],
   "source": [
    "ARTICLE_TO_SUMMARIZE = \"My friends are cool but they eat too many carbs.\"\n",
    "inputs = tokenizer.batch_encode_plus([ARTICLE_TO_SUMMARIZE], max_length=1024, return_tensors='pt')\n",
    "# Generate Summary\n",
    "summary_ids = model.generate(inputs['input_ids'], num_beams=4, max_length=5, early_stopping=True)\n",
    "print([tokenizer.decode(g, skip_special_tokens=True, clean_up_tokenization_spaces=False) for g in summary_ids])"
   ]
  },
  {
   "cell_type": "code",
   "execution_count": 8,
   "metadata": {},
   "outputs": [],
   "source": [
    "from newspaper import Article\n",
    "\n",
    "url = \"https://medium.com/swlh/how-i-went-from-no-coding-experience-to-a-microsoft-offer-in-1-year-91d7b8c8b464\""
   ]
  },
  {
   "cell_type": "code",
   "execution_count": 10,
   "metadata": {},
   "outputs": [
    {
     "data": {
      "text/plain": [
       "['youre',\n",
       " 'email',\n",
       " 'teaching',\n",
       " 'knew',\n",
       " 'experience',\n",
       " 'offer',\n",
       " 'summer',\n",
       " 'didnt',\n",
       " 'know',\n",
       " 'work',\n",
       " 'dont',\n",
       " 'went',\n",
       " 'coding',\n",
       " 'microsoft']"
      ]
     },
     "execution_count": 10,
     "metadata": {},
     "output_type": "execute_result"
    }
   ],
   "source": [
    "article = Article(url)\n",
    "article.download()\n",
    "article.parse()\n",
    "article.nlp()\n",
    "article.keywords"
   ]
  },
  {
   "cell_type": "code",
   "execution_count": 5,
   "metadata": {},
   "outputs": [
    {
     "name": "stdout",
     "output_type": "stream",
     "text": [
      "[\"As a high school student, I didn't know how to code. Now I know. Here are three tips to help you learn how to do the same. Find a mentor who knows what you're talking about. Share your story with your friends and family on social media to help them out.\"]\n"
     ]
    }
   ],
   "source": [
    "inputs = tokenizer.batch_encode_plus([article.text], max_length=1024, return_tensors='pt')\n",
    "summary_ids = model.generate(inputs['input_ids'], num_beams=4, max_length=500, early_stopping=True)\n",
    "\n",
    "print([tokenizer.decode(g, skip_special_tokens=True, clean_up_tokenization_spaces=False) for g in summary_ids])"
   ]
  },
  {
   "cell_type": "code",
   "execution_count": null,
   "metadata": {},
   "outputs": [],
   "source": []
  }
 ],
 "metadata": {
  "kernelspec": {
   "display_name": "summary",
   "language": "python",
   "name": "summary"
  },
  "language_info": {
   "codemirror_mode": {
    "name": "ipython",
    "version": 3
   },
   "file_extension": ".py",
   "mimetype": "text/x-python",
   "name": "python",
   "nbconvert_exporter": "python",
   "pygments_lexer": "ipython3",
   "version": "3.6.8"
  }
 },
 "nbformat": 4,
 "nbformat_minor": 4
}
